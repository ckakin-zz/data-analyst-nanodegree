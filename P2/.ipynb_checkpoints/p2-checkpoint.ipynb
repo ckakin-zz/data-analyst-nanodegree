{
 "cells": [
  {
   "cell_type": "markdown",
   "metadata": {},
   "source": [
    "My investigations\n",
    "1. Find out the top 500 all time leaders in homeruns (identify the group that represent the best strikers)\n",
    "2. Among the top 500 players, find out the age and number of seasons that they made their peak homeruns record. (relationship between maturity and number of homeruns)"
   ]
  },
  {
   "cell_type": "code",
   "execution_count": 145,
   "metadata": {
    "collapsed": false
   },
   "outputs": [],
   "source": [
    "import pandas as pd\n",
    "\n",
    "# read in master and batting CSV of 2014, files should be under {location_of_notebook}/csv/\n",
    "master = pd.read_csv('csv/MASTER.csv')\n",
    "batting = pd.read_csv('csv/Batting.csv')\n",
    "\n",
    "# get the player IDs of the top 100 players\n",
    "top_500_ids = batting.groupby('playerID').sum().sort_values(by=['HR'], ascending=[0]).head(500).index\n"
   ]
  },
  {
   "cell_type": "code",
   "execution_count": 146,
   "metadata": {
    "collapsed": false
   },
   "outputs": [],
   "source": [
    "import datetime\n",
    "import sys\n",
    "import matplotlib.pyplot as plt\n",
    "\n",
    "# need to handle error of datetime library, not support year < 1900\n",
    "# handle empty values\n",
    "# handle date in 2 different formats\n",
    "def date_to_year(column):\n",
    "    if (column ==''):\n",
    "        return None    \n",
    "    try:\n",
    "        d = datetime.datetime.strptime(column, \"%m/%d/%Y\" )\n",
    "        return int(d.isoformat().split('T')[0].split('-')[0])\n",
    "    except ValueError:\n",
    "        d = datetime.datetime.strptime(column, \"%Y-%m-%d\" )\n",
    "        return int(d.isoformat().split('T')[0].split('-')[0])\n",
    "    except:\n",
    "        print \"Unexpected error:\", sys.exc_info()[0]\n",
    "\n",
    "#fill empy values\n",
    "master['debut'] = master['debut'].fillna('')\n",
    "master['debut'] = master['debut'].apply(date_to_year)\n",
    "\n",
    "# get only required columns\n",
    "master = master[['playerID','birthYear','debut']]\n",
    "batting = batting[['playerID','HR', 'yearID']]\n",
    "\n",
    "master = master[master['playerID'].isin(top_500_ids)]\n",
    "top_500 = pd.merge(master, batting, on='playerID')\n",
    "\n",
    "# calculate age, year and debut age for further processing\n",
    "age = top_500['yearID'] - top_500['birthYear']\n",
    "year = top_500['yearID'] - top_500['debut'] + 1\n",
    "debut_age = top_500['debut'] - top_500['birthYear']\n",
    "\n",
    "top_500['debutAge'] = pd.Series(debut_age, index=top_500.index)\n",
    "top_500['age'] = pd.Series(age, index=top_500.index)\n",
    "top_500['year'] = pd.Series(year, index=top_500.index)\n"
   ]
  },
  {
   "cell_type": "code",
   "execution_count": 148,
   "metadata": {
    "collapsed": false
   },
   "outputs": [
    {
     "data": {
      "text/html": [
       "<div>\n",
       "<table border=\"1\" class=\"dataframe\">\n",
       "  <thead>\n",
       "    <tr style=\"text-align: right;\">\n",
       "      <th></th>\n",
       "      <th>birthYear</th>\n",
       "      <th>debut</th>\n",
       "      <th>HR</th>\n",
       "      <th>yearID</th>\n",
       "      <th>debutAge</th>\n",
       "      <th>age</th>\n",
       "      <th>year</th>\n",
       "    </tr>\n",
       "  </thead>\n",
       "  <tbody>\n",
       "    <tr>\n",
       "      <th>count</th>\n",
       "      <td>500.000000</td>\n",
       "      <td>500.000000</td>\n",
       "      <td>500.000000</td>\n",
       "      <td>500.000000</td>\n",
       "      <td>500.000000</td>\n",
       "      <td>500.00000</td>\n",
       "      <td>500.000000</td>\n",
       "    </tr>\n",
       "    <tr>\n",
       "      <th>mean</th>\n",
       "      <td>1952.744000</td>\n",
       "      <td>1975.036000</td>\n",
       "      <td>34.190000</td>\n",
       "      <td>1981.982000</td>\n",
       "      <td>22.292000</td>\n",
       "      <td>29.23800</td>\n",
       "      <td>7.946000</td>\n",
       "    </tr>\n",
       "    <tr>\n",
       "      <th>std</th>\n",
       "      <td>22.686379</td>\n",
       "      <td>22.955361</td>\n",
       "      <td>9.216278</td>\n",
       "      <td>22.696518</td>\n",
       "      <td>1.766629</td>\n",
       "      <td>3.45445</td>\n",
       "      <td>3.407978</td>\n",
       "    </tr>\n",
       "    <tr>\n",
       "      <th>min</th>\n",
       "      <td>1887.000000</td>\n",
       "      <td>1912.000000</td>\n",
       "      <td>14.000000</td>\n",
       "      <td>1921.000000</td>\n",
       "      <td>17.000000</td>\n",
       "      <td>20.00000</td>\n",
       "      <td>1.000000</td>\n",
       "    </tr>\n",
       "    <tr>\n",
       "      <th>25%</th>\n",
       "      <td>1938.000000</td>\n",
       "      <td>1960.000000</td>\n",
       "      <td>28.000000</td>\n",
       "      <td>1966.000000</td>\n",
       "      <td>21.000000</td>\n",
       "      <td>27.00000</td>\n",
       "      <td>6.000000</td>\n",
       "    </tr>\n",
       "    <tr>\n",
       "      <th>50%</th>\n",
       "      <td>1958.000000</td>\n",
       "      <td>1980.000000</td>\n",
       "      <td>33.000000</td>\n",
       "      <td>1987.000000</td>\n",
       "      <td>22.000000</td>\n",
       "      <td>29.00000</td>\n",
       "      <td>8.000000</td>\n",
       "    </tr>\n",
       "    <tr>\n",
       "      <th>75%</th>\n",
       "      <td>1971.000000</td>\n",
       "      <td>1994.000000</td>\n",
       "      <td>40.000000</td>\n",
       "      <td>2000.000000</td>\n",
       "      <td>24.000000</td>\n",
       "      <td>31.00000</td>\n",
       "      <td>10.000000</td>\n",
       "    </tr>\n",
       "    <tr>\n",
       "      <th>max</th>\n",
       "      <td>1989.000000</td>\n",
       "      <td>2010.000000</td>\n",
       "      <td>73.000000</td>\n",
       "      <td>2014.000000</td>\n",
       "      <td>29.000000</td>\n",
       "      <td>40.00000</td>\n",
       "      <td>20.000000</td>\n",
       "    </tr>\n",
       "  </tbody>\n",
       "</table>\n",
       "</div>"
      ],
      "text/plain": [
       "         birthYear        debut          HR       yearID    debutAge  \\\n",
       "count   500.000000   500.000000  500.000000   500.000000  500.000000   \n",
       "mean   1952.744000  1975.036000   34.190000  1981.982000   22.292000   \n",
       "std      22.686379    22.955361    9.216278    22.696518    1.766629   \n",
       "min    1887.000000  1912.000000   14.000000  1921.000000   17.000000   \n",
       "25%    1938.000000  1960.000000   28.000000  1966.000000   21.000000   \n",
       "50%    1958.000000  1980.000000   33.000000  1987.000000   22.000000   \n",
       "75%    1971.000000  1994.000000   40.000000  2000.000000   24.000000   \n",
       "max    1989.000000  2010.000000   73.000000  2014.000000   29.000000   \n",
       "\n",
       "             age        year  \n",
       "count  500.00000  500.000000  \n",
       "mean    29.23800    7.946000  \n",
       "std      3.45445    3.407978  \n",
       "min     20.00000    1.000000  \n",
       "25%     27.00000    6.000000  \n",
       "50%     29.00000    8.000000  \n",
       "75%     31.00000   10.000000  \n",
       "max     40.00000   20.000000  "
      ]
     },
     "execution_count": 148,
     "metadata": {},
     "output_type": "execute_result"
    }
   ],
   "source": [
    "#get information for the year that each player attained their peak homerun records\n",
    "top_500_max_hr = top_500.sort_values(by='HR', ascending=False).groupby('playerID', as_index=False).first()    \n",
    "\n",
    "# it would show that \n",
    "# average debut age is 22.3\n",
    "# average age that attain best record is 29.2\n",
    "# and the average number of season that attain the record is their 8th season\n",
    "top_500_max_hr.describe()"
   ]
  },
  {
   "cell_type": "code",
   "execution_count": 154,
   "metadata": {
    "collapsed": false
   },
   "outputs": [],
   "source": [
    "top_500_max_hr[['debutAge','age','year']].plot(kind='hist',stacked=False, bins=40)\n",
    "\n",
    "# it would show that \n",
    "# most players have debut age is 22\n",
    "# most players attain their best record at the age of 29\n",
    "# and most of them have their best season at season 7\n",
    "plt.show()"
   ]
  },
  {
   "cell_type": "code",
   "execution_count": null,
   "metadata": {
    "collapsed": true
   },
   "outputs": [],
   "source": []
  }
 ],
 "metadata": {
  "kernelspec": {
   "display_name": "Python 2",
   "language": "python",
   "name": "python2"
  },
  "language_info": {
   "codemirror_mode": {
    "name": "ipython",
    "version": 2
   },
   "file_extension": ".py",
   "mimetype": "text/x-python",
   "name": "python",
   "nbconvert_exporter": "python",
   "pygments_lexer": "ipython2",
   "version": "2.7.10"
  }
 },
 "nbformat": 4,
 "nbformat_minor": 0
}
